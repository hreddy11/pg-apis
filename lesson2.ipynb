{
 "cells": [
  {
   "cell_type": "code",
   "execution_count": null,
   "metadata": {},
   "outputs": [],
   "source": [
    "import pandas as pd\n",
    "import geopandas\n",
    "\n",
    "url = 'https://en.wikipedia.org/wiki/List_of_countries_by_meat_consumption'\n",
    "tables = pd.read_html(url)\n",
    "\n",
    "table = tables[0]\n",
    "\n",
    "pd.set_option('display.max_columns', 10)\n",
    "pd.set_option('display.width', 1000)\n",
    "pd.set_option('display.max_rows', 200)\n",
    "\n",
    "world = geopandas.read_file(geopandas.datasets.get_path('naturalearth_lowres'))\n",
    "\n",
    "table = world.merge(table, how='left', left_on=['name'], right_on=['Country'])\n",
    "table = table.dropna(subset=['kg/person (2002)[9][note 1]'])\n",
    "print(table)"
   ]
  },
  {
   "cell_type": "code",
   "execution_count": 22,
   "metadata": {},
   "outputs": [],
   "source": [
    "import folium\n",
    "\n",
    "m = folium.Map()\n",
    "\n",
    "folium.Choropleth(\n",
    "    geo_data=table,\n",
    "    name=\"choropleth\",\n",
    "    data=table,\n",
    "    columns=[\"Country\", \"kg/person (2002)[9][note 1]\"],\n",
    "    key_on=\"feature.properties.name\",\n",
    "    fill_color=\"YlGn\",\n",
    "    fill_opacity=0.7,\n",
    "    line_opacity=0.2,\n",
    "    legend_name=\"Meat consumption\",\n",
    ").add_to(m)\n",
    "\n",
    "m.save('meat.html')"
   ]
  },
  {
   "cell_type": "code",
   "execution_count": null,
   "metadata": {},
   "outputs": [],
   "source": []
  }
 ],
 "metadata": {
  "interpreter": {
   "hash": "9d194a0c401fc5d1977a7c1b36ab134b29c280c99700bfc8ae40b166cbb1b172"
  },
  "kernelspec": {
   "display_name": "Python 3.10.1 ('yenv': venv)",
   "language": "python",
   "name": "python3"
  },
  "language_info": {
   "codemirror_mode": {
    "name": "ipython",
    "version": 3
   },
   "file_extension": ".py",
   "mimetype": "text/x-python",
   "name": "python",
   "nbconvert_exporter": "python",
   "pygments_lexer": "ipython3",
   "version": "3.10.1"
  },
  "orig_nbformat": 4
 },
 "nbformat": 4,
 "nbformat_minor": 2
}
